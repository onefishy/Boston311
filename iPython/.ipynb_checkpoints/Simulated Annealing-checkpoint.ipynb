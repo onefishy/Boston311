{
 "cells": [
  {
   "cell_type": "code",
   "execution_count": null,
   "metadata": {
    "collapsed": false
   },
   "outputs": [],
   "source": [
    "%pylab inline\n",
    "import seaborn as sns\n",
    "import pandas as pd\n",
    "import time\n",
    "import scipy\n",
    "import tqdm\n",
    "from mpl_toolkits.mplot3d import Axes3D\n",
    "from scipy.interpolate import griddata\n",
    "\n",
    "sns.set_style('white')\n",
    "pd.set_option('display.max_columns', 35)"
   ]
  },
  {
   "cell_type": "code",
   "execution_count": 2,
   "metadata": {
    "collapsed": false
   },
   "outputs": [
    {
     "name": "stdout",
     "output_type": "stream",
     "text": [
      "Starting to read in data...\n",
      "Read in data in 8.42 seconds.\n"
     ]
    },
    {
     "name": "stderr",
     "output_type": "stream",
     "text": [
      "//anaconda/lib/python2.7/site-packages/IPython/core/interactiveshell.py:2902: DtypeWarning: Columns (13,23) have mixed types. Specify dtype option on import or set low_memory=False.\n",
      "  interactivity=interactivity, compiler=compiler, result=result)\n"
     ]
    }
   ],
   "source": [
    "print \"Starting to read in data...\"\n",
    "t1 = time.time()\n",
    "requests = pd.read_csv('311__Service_Requests.csv')\n",
    "t2 = time.time()\n",
    "print \"Read in data in %.2f seconds.\" % (t2 - t1)"
   ]
  },
  {
   "cell_type": "code",
   "execution_count": 3,
   "metadata": {
    "collapsed": false
   },
   "outputs": [
    {
     "name": "stdout",
     "output_type": "stream",
     "text": [
      "Starting to process data types...\n",
      "Dates processed in 320.29 seconds.\n"
     ]
    }
   ],
   "source": [
    "# processing on the data types\n",
    "print \"Starting to process data types...\"\n",
    "t1 = time.time()\n",
    "for col in ['OPEN_DT', 'TARGET_DT', 'CLOSED_DT']:\n",
    "    requests[col] = pd.to_datetime(requests[col], infer_datetime_format=True)\n",
    "requests['ACTUAL_LAG'] = requests['CLOSED_DT'] - requests['OPEN_DT']\n",
    "requests['EXPECTED_LAG'] = requests['TARGET_DT'] - requests['OPEN_DT']\n",
    "t2= time.time()\n",
    "print \"Dates processed in %.2f seconds.\" % (t2-t1)"
   ]
  },
  {
   "cell_type": "code",
   "execution_count": null,
   "metadata": {
    "collapsed": false
   },
   "outputs": [],
   "source": [
    "closed_requests = requests[requests['CASE_STATUS'] == 'Closed']\n",
    "\n",
    "open_requests = requests[requests['CASE_STATUS'] == 'Open']\n",
    "\n",
    "closed_clean = closed_requests[(closed_requests['Source'] == 'Citizens Connect App')] |\\\n",
    "    (closed_requests['Source'] == 'Constituent Call')  "
   ]
  },
  {
   "cell_type": "code",
   "execution_count": null,
   "metadata": {
    "collapsed": true
   },
   "outputs": [],
   "source": []
  }
 ],
 "metadata": {
  "kernelspec": {
   "display_name": "Python 2",
   "language": "python",
   "name": "python2"
  },
  "language_info": {
   "codemirror_mode": {
    "name": "ipython",
    "version": 2
   },
   "file_extension": ".py",
   "mimetype": "text/x-python",
   "name": "python",
   "nbconvert_exporter": "python",
   "pygments_lexer": "ipython2",
   "version": "2.7.11"
  }
 },
 "nbformat": 4,
 "nbformat_minor": 0
}
