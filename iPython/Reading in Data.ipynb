{
 "cells": [
  {
   "cell_type": "code",
   "execution_count": 58,
   "metadata": {
    "collapsed": false
   },
   "outputs": [
    {
     "name": "stdout",
     "output_type": "stream",
     "text": [
      "Populating the interactive namespace from numpy and matplotlib\n"
     ]
    }
   ],
   "source": [
    "%pylab inline\n",
    "import seaborn as sns\n",
    "import pandas as pd\n",
    "import time\n",
    "import scipy\n",
    "\n",
    "# still working on this\n",
    "# from mpl_toolkits.basemap import Basemap\n",
    "\n",
    "sns.set_style('white')\n",
    "pd.set_option('display.max_columns', 35)"
   ]
  },
  {
   "cell_type": "markdown",
   "metadata": {
    "collapsed": true
   },
   "source": [
    "# Reading in Data"
   ]
  },
  {
   "cell_type": "code",
   "execution_count": 2,
   "metadata": {
    "collapsed": false
   },
   "outputs": [
    {
     "name": "stdout",
     "output_type": "stream",
     "text": [
      "Starting to read in data...\n",
      "Read in data in 7.18 seconds.\n"
     ]
    },
    {
     "name": "stderr",
     "output_type": "stream",
     "text": [
      "//anaconda/lib/python2.7/site-packages/IPython/core/interactiveshell.py:2902: DtypeWarning: Columns (13,23) have mixed types. Specify dtype option on import or set low_memory=False.\n",
      "  interactivity=interactivity, compiler=compiler, result=result)\n"
     ]
    }
   ],
   "source": [
    "print \"Starting to read in data...\"\n",
    "t1 = time.time()\n",
    "requests = pd.read_csv('311__Service_Requests.csv', parse_dates=True)\n",
    "t2 = time.time()\n",
    "print \"Read in data in %.2f seconds.\" % (t2 - t1)"
   ]
  },
  {
   "cell_type": "code",
   "execution_count": 4,
   "metadata": {
    "collapsed": false
   },
   "outputs": [
    {
     "name": "stdout",
     "output_type": "stream",
     "text": [
      "Starting to process data types...\n",
      "Dates processed in 269.48 seconds.\n"
     ]
    }
   ],
   "source": [
    "# processing on the data types\n",
    "print \"Starting to process data types...\"\n",
    "t1 = time.time()\n",
    "for col in ['OPEN_DT', 'TARGET_DT', 'CLOSED_DT']:\n",
    "    requests[col] = pd.to_datetime(requests[col], infer_datetime_format=True)\n",
    "t2= time.time()\n",
    "print \"Dates processed in %.2f seconds.\" % (t2-t1)\n"
   ]
  },
  {
   "cell_type": "code",
   "execution_count": 5,
   "metadata": {
    "collapsed": false
   },
   "outputs": [
    {
     "data": {
      "text/html": [
       "<div>\n",
       "<table border=\"1\" class=\"dataframe\">\n",
       "  <thead>\n",
       "    <tr style=\"text-align: right;\">\n",
       "      <th></th>\n",
       "      <th>CASE_ENQUIRY_ID</th>\n",
       "      <th>fire_district</th>\n",
       "      <th>city_council_district</th>\n",
       "      <th>neighborhood_services_district</th>\n",
       "      <th>LOCATION_ZIPCODE</th>\n",
       "      <th>Property_ID</th>\n",
       "      <th>LATITUDE</th>\n",
       "      <th>LONGITUDE</th>\n",
       "    </tr>\n",
       "  </thead>\n",
       "  <tbody>\n",
       "    <tr>\n",
       "      <th>count</th>\n",
       "      <td>7.414790e+05</td>\n",
       "      <td>705302.000000</td>\n",
       "      <td>708094.000000</td>\n",
       "      <td>708093.000000</td>\n",
       "      <td>569199.000000</td>\n",
       "      <td>708248.000000</td>\n",
       "      <td>741479.000000</td>\n",
       "      <td>741479.000000</td>\n",
       "    </tr>\n",
       "    <tr>\n",
       "      <th>mean</th>\n",
       "      <td>1.010010e+11</td>\n",
       "      <td>7.245801</td>\n",
       "      <td>4.675104</td>\n",
       "      <td>8.972152</td>\n",
       "      <td>2127.478086</td>\n",
       "      <td>100775.067798</td>\n",
       "      <td>42.324841</td>\n",
       "      <td>-71.085479</td>\n",
       "    </tr>\n",
       "    <tr>\n",
       "      <th>std</th>\n",
       "      <td>4.359690e+05</td>\n",
       "      <td>3.280281</td>\n",
       "      <td>2.550621</td>\n",
       "      <td>4.172519</td>\n",
       "      <td>17.785509</td>\n",
       "      <td>95373.252851</td>\n",
       "      <td>0.035126</td>\n",
       "      <td>0.036447</td>\n",
       "    </tr>\n",
       "    <tr>\n",
       "      <th>min</th>\n",
       "      <td>1.010003e+11</td>\n",
       "      <td>1.000000</td>\n",
       "      <td>0.000000</td>\n",
       "      <td>0.000000</td>\n",
       "      <td>2026.000000</td>\n",
       "      <td>1.000000</td>\n",
       "      <td>42.232100</td>\n",
       "      <td>-71.185400</td>\n",
       "    </tr>\n",
       "    <tr>\n",
       "      <th>25%</th>\n",
       "      <td>1.010007e+11</td>\n",
       "      <td>4.000000</td>\n",
       "      <td>2.000000</td>\n",
       "      <td>6.000000</td>\n",
       "      <td>2121.000000</td>\n",
       "      <td>16592.750000</td>\n",
       "      <td>42.293800</td>\n",
       "      <td>-71.111700</td>\n",
       "    </tr>\n",
       "    <tr>\n",
       "      <th>50%</th>\n",
       "      <td>1.010011e+11</td>\n",
       "      <td>7.000000</td>\n",
       "      <td>5.000000</td>\n",
       "      <td>10.000000</td>\n",
       "      <td>2126.000000</td>\n",
       "      <td>82519.000000</td>\n",
       "      <td>42.331400</td>\n",
       "      <td>-71.075900</td>\n",
       "    </tr>\n",
       "    <tr>\n",
       "      <th>75%</th>\n",
       "      <td>1.010014e+11</td>\n",
       "      <td>9.000000</td>\n",
       "      <td>7.000000</td>\n",
       "      <td>13.000000</td>\n",
       "      <td>2131.000000</td>\n",
       "      <td>145504.000000</td>\n",
       "      <td>42.355800</td>\n",
       "      <td>-71.058700</td>\n",
       "    </tr>\n",
       "    <tr>\n",
       "      <th>max</th>\n",
       "      <td>1.010018e+11</td>\n",
       "      <td>12.000000</td>\n",
       "      <td>9.000000</td>\n",
       "      <td>15.000000</td>\n",
       "      <td>2467.000000</td>\n",
       "      <td>419841.000000</td>\n",
       "      <td>42.395200</td>\n",
       "      <td>-70.994900</td>\n",
       "    </tr>\n",
       "  </tbody>\n",
       "</table>\n",
       "</div>"
      ],
      "text/plain": [
       "       CASE_ENQUIRY_ID  fire_district  city_council_district  \\\n",
       "count     7.414790e+05  705302.000000          708094.000000   \n",
       "mean      1.010010e+11       7.245801               4.675104   \n",
       "std       4.359690e+05       3.280281               2.550621   \n",
       "min       1.010003e+11       1.000000               0.000000   \n",
       "25%       1.010007e+11       4.000000               2.000000   \n",
       "50%       1.010011e+11       7.000000               5.000000   \n",
       "75%       1.010014e+11       9.000000               7.000000   \n",
       "max       1.010018e+11      12.000000               9.000000   \n",
       "\n",
       "       neighborhood_services_district  LOCATION_ZIPCODE    Property_ID  \\\n",
       "count                   708093.000000     569199.000000  708248.000000   \n",
       "mean                         8.972152       2127.478086  100775.067798   \n",
       "std                          4.172519         17.785509   95373.252851   \n",
       "min                          0.000000       2026.000000       1.000000   \n",
       "25%                          6.000000       2121.000000   16592.750000   \n",
       "50%                         10.000000       2126.000000   82519.000000   \n",
       "75%                         13.000000       2131.000000  145504.000000   \n",
       "max                         15.000000       2467.000000  419841.000000   \n",
       "\n",
       "            LATITUDE      LONGITUDE  \n",
       "count  741479.000000  741479.000000  \n",
       "mean       42.324841     -71.085479  \n",
       "std         0.035126       0.036447  \n",
       "min        42.232100     -71.185400  \n",
       "25%        42.293800     -71.111700  \n",
       "50%        42.331400     -71.075900  \n",
       "75%        42.355800     -71.058700  \n",
       "max        42.395200     -70.994900  "
      ]
     },
     "execution_count": 5,
     "metadata": {},
     "output_type": "execute_result"
    }
   ],
   "source": [
    "requests.describe()"
   ]
  },
  {
   "cell_type": "code",
   "execution_count": 6,
   "metadata": {
    "collapsed": false
   },
   "outputs": [
    {
     "data": {
      "text/html": [
       "<div>\n",
       "<table border=\"1\" class=\"dataframe\">\n",
       "  <thead>\n",
       "    <tr style=\"text-align: right;\">\n",
       "      <th></th>\n",
       "      <th>CASE_ENQUIRY_ID</th>\n",
       "      <th>OPEN_DT</th>\n",
       "      <th>TARGET_DT</th>\n",
       "      <th>CLOSED_DT</th>\n",
       "      <th>OnTime_Status</th>\n",
       "      <th>CASE_STATUS</th>\n",
       "      <th>CLOSURE_REASON</th>\n",
       "      <th>CASE_TITLE</th>\n",
       "      <th>SUBJECT</th>\n",
       "      <th>REASON</th>\n",
       "      <th>TYPE</th>\n",
       "      <th>QUEUE</th>\n",
       "      <th>Department</th>\n",
       "      <th>SubmittedPhoto</th>\n",
       "      <th>ClosedPhoto</th>\n",
       "      <th>Location</th>\n",
       "      <th>fire_district</th>\n",
       "      <th>pwd_district</th>\n",
       "      <th>city_council_district</th>\n",
       "      <th>police_district</th>\n",
       "      <th>neighborhood</th>\n",
       "      <th>neighborhood_services_district</th>\n",
       "      <th>ward</th>\n",
       "      <th>precinct</th>\n",
       "      <th>land_usage</th>\n",
       "      <th>LOCATION_STREET_NAME</th>\n",
       "      <th>LOCATION_ZIPCODE</th>\n",
       "      <th>Property_Type</th>\n",
       "      <th>Property_ID</th>\n",
       "      <th>LATITUDE</th>\n",
       "      <th>LONGITUDE</th>\n",
       "      <th>Source</th>\n",
       "      <th>Geocoded_Location</th>\n",
       "    </tr>\n",
       "  </thead>\n",
       "  <tbody>\n",
       "    <tr>\n",
       "      <th>0</th>\n",
       "      <td>101000295613</td>\n",
       "      <td>2011-07-01 01:32:33</td>\n",
       "      <td>2011-07-15 01:32:32</td>\n",
       "      <td>2011-07-01 05:06:58</td>\n",
       "      <td>ONTIME</td>\n",
       "      <td>Closed</td>\n",
       "      <td>Case Closed Case Resolved replaced 100 amp fus...</td>\n",
       "      <td>Street Light Outages</td>\n",
       "      <td>Public Works Department</td>\n",
       "      <td>Street Lights</td>\n",
       "      <td>Street Light Outages</td>\n",
       "      <td>PWDx_Street Light Outages</td>\n",
       "      <td>PWDx</td>\n",
       "      <td>NaN</td>\n",
       "      <td>NaN</td>\n",
       "      <td>INTERSECTION of Groveland St &amp; River St  Matta...</td>\n",
       "      <td>8</td>\n",
       "      <td>07</td>\n",
       "      <td>3</td>\n",
       "      <td>B3</td>\n",
       "      <td>Greater Mattapan</td>\n",
       "      <td>7</td>\n",
       "      <td>Ward 17</td>\n",
       "      <td>1714</td>\n",
       "      <td>NaN</td>\n",
       "      <td>INTERSECTION Groveland St &amp; River St</td>\n",
       "      <td>NaN</td>\n",
       "      <td>Intersection</td>\n",
       "      <td>5512</td>\n",
       "      <td>42.2715</td>\n",
       "      <td>-71.0772</td>\n",
       "      <td>Employee Generated</td>\n",
       "      <td>(42.2715, -71.0772)</td>\n",
       "    </tr>\n",
       "    <tr>\n",
       "      <th>1</th>\n",
       "      <td>101000295614</td>\n",
       "      <td>2011-07-01 02:18:31</td>\n",
       "      <td>2011-07-05 02:18:31</td>\n",
       "      <td>2011-07-01 06:12:43</td>\n",
       "      <td>ONTIME</td>\n",
       "      <td>Closed</td>\n",
       "      <td>Case Closed Case Scheduled Items have been sch...</td>\n",
       "      <td>Schedule a Bulk Item Pickup</td>\n",
       "      <td>Public Works Department</td>\n",
       "      <td>Sanitation</td>\n",
       "      <td>Schedule a Bulk Item Pickup</td>\n",
       "      <td>PWDx_Schedule a Bulk Item Pickup</td>\n",
       "      <td>PWDx</td>\n",
       "      <td>NaN</td>\n",
       "      <td>NaN</td>\n",
       "      <td>39 Lorraine St  Roslindale  MA  02131</td>\n",
       "      <td>12</td>\n",
       "      <td>06</td>\n",
       "      <td>5</td>\n",
       "      <td>E5</td>\n",
       "      <td>Roslindale</td>\n",
       "      <td>10</td>\n",
       "      <td>Ward 20</td>\n",
       "      <td>2008</td>\n",
       "      <td>R1</td>\n",
       "      <td>39 Lorraine St</td>\n",
       "      <td>2131</td>\n",
       "      <td>Address</td>\n",
       "      <td>87461</td>\n",
       "      <td>42.2839</td>\n",
       "      <td>-71.1447</td>\n",
       "      <td>Self Service</td>\n",
       "      <td>(42.2839, -71.1447)</td>\n",
       "    </tr>\n",
       "    <tr>\n",
       "      <th>2</th>\n",
       "      <td>101000295615</td>\n",
       "      <td>2011-07-01 02:28:04</td>\n",
       "      <td>2011-08-15 02:28:04</td>\n",
       "      <td>2011-08-01 15:21:46</td>\n",
       "      <td>ONTIME</td>\n",
       "      <td>Closed</td>\n",
       "      <td>Case Closed Case Resolved No Sidewalk and poor...</td>\n",
       "      <td>New Sign  Crosswalk or Pavement Marking</td>\n",
       "      <td>Transportation - Traffic Division</td>\n",
       "      <td>Signs &amp; Signals</td>\n",
       "      <td>New Sign  Crosswalk or Pavement Marking</td>\n",
       "      <td>BTDT_Engineering_New Sign and Pavement Marking...</td>\n",
       "      <td>BTDT</td>\n",
       "      <td>NaN</td>\n",
       "      <td>NaN</td>\n",
       "      <td>INTERSECTION of Corey St &amp; Lagrange St  West R...</td>\n",
       "      <td>NaN</td>\n",
       "      <td>06</td>\n",
       "      <td>6</td>\n",
       "      <td>E5</td>\n",
       "      <td>West Roxbury</td>\n",
       "      <td>12</td>\n",
       "      <td>Ward 20</td>\n",
       "      <td>2017</td>\n",
       "      <td>NaN</td>\n",
       "      <td>INTERSECTION Corey St &amp; Lagrange St</td>\n",
       "      <td>NaN</td>\n",
       "      <td>Intersection</td>\n",
       "      <td>3522</td>\n",
       "      <td>42.3003</td>\n",
       "      <td>-71.1698</td>\n",
       "      <td>Self Service</td>\n",
       "      <td>(42.3003, -71.1698)</td>\n",
       "    </tr>\n",
       "    <tr>\n",
       "      <th>3</th>\n",
       "      <td>101000295616</td>\n",
       "      <td>2011-07-01 03:03:48</td>\n",
       "      <td>2011-07-15 03:03:48</td>\n",
       "      <td>2011-07-22 16:13:45</td>\n",
       "      <td>OVERDUE</td>\n",
       "      <td>Closed</td>\n",
       "      <td>Case Closed Case Resolved completed</td>\n",
       "      <td>Street Light Outages</td>\n",
       "      <td>Public Works Department</td>\n",
       "      <td>Street Lights</td>\n",
       "      <td>Street Light Outages</td>\n",
       "      <td>PWDx_Street Light_Pending_Contractor (Internal)</td>\n",
       "      <td>PWDx</td>\n",
       "      <td>NaN</td>\n",
       "      <td>NaN</td>\n",
       "      <td>235 Fairmount Ave  Hyde Park  MA  02136</td>\n",
       "      <td>12</td>\n",
       "      <td>08</td>\n",
       "      <td>5</td>\n",
       "      <td>E18</td>\n",
       "      <td>Hyde Park</td>\n",
       "      <td>10</td>\n",
       "      <td>Ward 18</td>\n",
       "      <td>1816</td>\n",
       "      <td>R2</td>\n",
       "      <td>235 Fairmount Ave</td>\n",
       "      <td>2136</td>\n",
       "      <td>Address</td>\n",
       "      <td>55708</td>\n",
       "      <td>42.2496</td>\n",
       "      <td>-71.1156</td>\n",
       "      <td>Self Service</td>\n",
       "      <td>(42.2496, -71.1156)</td>\n",
       "    </tr>\n",
       "    <tr>\n",
       "      <th>4</th>\n",
       "      <td>101000295617</td>\n",
       "      <td>2011-07-01 03:12:31</td>\n",
       "      <td>NaT</td>\n",
       "      <td>2011-07-01 06:12:38</td>\n",
       "      <td>ONTIME</td>\n",
       "      <td>Closed</td>\n",
       "      <td>Case Closed Case Resolved</td>\n",
       "      <td>Highway Maintenance</td>\n",
       "      <td>Public Works Department</td>\n",
       "      <td>Highway Maintenance</td>\n",
       "      <td>Highway Maintenance</td>\n",
       "      <td>PWDx_District 03: North Dorchester</td>\n",
       "      <td>PWDx</td>\n",
       "      <td>NaN</td>\n",
       "      <td>NaN</td>\n",
       "      <td>INTERSECTION of Dorchester Ave &amp; Hallam St  Do...</td>\n",
       "      <td>7</td>\n",
       "      <td>03</td>\n",
       "      <td>3</td>\n",
       "      <td>C11</td>\n",
       "      <td>Dorchester</td>\n",
       "      <td>7</td>\n",
       "      <td>Ward 13</td>\n",
       "      <td>1309</td>\n",
       "      <td>NaN</td>\n",
       "      <td>INTERSECTION Dorchester Ave &amp; Hallam St</td>\n",
       "      <td>NaN</td>\n",
       "      <td>Intersection</td>\n",
       "      <td>4182</td>\n",
       "      <td>42.3144</td>\n",
       "      <td>-71.0569</td>\n",
       "      <td>Constituent Call</td>\n",
       "      <td>(42.3144, -71.0569)</td>\n",
       "    </tr>\n",
       "  </tbody>\n",
       "</table>\n",
       "</div>"
      ],
      "text/plain": [
       "   CASE_ENQUIRY_ID             OPEN_DT           TARGET_DT  \\\n",
       "0     101000295613 2011-07-01 01:32:33 2011-07-15 01:32:32   \n",
       "1     101000295614 2011-07-01 02:18:31 2011-07-05 02:18:31   \n",
       "2     101000295615 2011-07-01 02:28:04 2011-08-15 02:28:04   \n",
       "3     101000295616 2011-07-01 03:03:48 2011-07-15 03:03:48   \n",
       "4     101000295617 2011-07-01 03:12:31                 NaT   \n",
       "\n",
       "            CLOSED_DT OnTime_Status CASE_STATUS  \\\n",
       "0 2011-07-01 05:06:58        ONTIME      Closed   \n",
       "1 2011-07-01 06:12:43        ONTIME      Closed   \n",
       "2 2011-08-01 15:21:46        ONTIME      Closed   \n",
       "3 2011-07-22 16:13:45       OVERDUE      Closed   \n",
       "4 2011-07-01 06:12:38        ONTIME      Closed   \n",
       "\n",
       "                                      CLOSURE_REASON  \\\n",
       "0  Case Closed Case Resolved replaced 100 amp fus...   \n",
       "1  Case Closed Case Scheduled Items have been sch...   \n",
       "2  Case Closed Case Resolved No Sidewalk and poor...   \n",
       "3                Case Closed Case Resolved completed   \n",
       "4                          Case Closed Case Resolved   \n",
       "\n",
       "                                CASE_TITLE                            SUBJECT  \\\n",
       "0                     Street Light Outages            Public Works Department   \n",
       "1              Schedule a Bulk Item Pickup            Public Works Department   \n",
       "2  New Sign  Crosswalk or Pavement Marking  Transportation - Traffic Division   \n",
       "3                     Street Light Outages            Public Works Department   \n",
       "4                      Highway Maintenance            Public Works Department   \n",
       "\n",
       "                REASON                                     TYPE  \\\n",
       "0        Street Lights                     Street Light Outages   \n",
       "1           Sanitation              Schedule a Bulk Item Pickup   \n",
       "2      Signs & Signals  New Sign  Crosswalk or Pavement Marking   \n",
       "3        Street Lights                     Street Light Outages   \n",
       "4  Highway Maintenance                      Highway Maintenance   \n",
       "\n",
       "                                               QUEUE Department  \\\n",
       "0                          PWDx_Street Light Outages       PWDx   \n",
       "1                   PWDx_Schedule a Bulk Item Pickup       PWDx   \n",
       "2  BTDT_Engineering_New Sign and Pavement Marking...       BTDT   \n",
       "3    PWDx_Street Light_Pending_Contractor (Internal)       PWDx   \n",
       "4                 PWDx_District 03: North Dorchester       PWDx   \n",
       "\n",
       "  SubmittedPhoto ClosedPhoto  \\\n",
       "0            NaN         NaN   \n",
       "1            NaN         NaN   \n",
       "2            NaN         NaN   \n",
       "3            NaN         NaN   \n",
       "4            NaN         NaN   \n",
       "\n",
       "                                            Location  fire_district  \\\n",
       "0  INTERSECTION of Groveland St & River St  Matta...              8   \n",
       "1              39 Lorraine St  Roslindale  MA  02131             12   \n",
       "2  INTERSECTION of Corey St & Lagrange St  West R...            NaN   \n",
       "3            235 Fairmount Ave  Hyde Park  MA  02136             12   \n",
       "4  INTERSECTION of Dorchester Ave & Hallam St  Do...              7   \n",
       "\n",
       "  pwd_district  city_council_district police_district      neighborhood  \\\n",
       "0           07                      3              B3  Greater Mattapan   \n",
       "1           06                      5              E5        Roslindale   \n",
       "2           06                      6              E5      West Roxbury   \n",
       "3           08                      5             E18         Hyde Park   \n",
       "4           03                      3             C11        Dorchester   \n",
       "\n",
       "   neighborhood_services_district     ward precinct land_usage  \\\n",
       "0                               7  Ward 17     1714        NaN   \n",
       "1                              10  Ward 20     2008         R1   \n",
       "2                              12  Ward 20     2017        NaN   \n",
       "3                              10  Ward 18     1816         R2   \n",
       "4                               7  Ward 13     1309        NaN   \n",
       "\n",
       "                      LOCATION_STREET_NAME  LOCATION_ZIPCODE Property_Type  \\\n",
       "0     INTERSECTION Groveland St & River St               NaN  Intersection   \n",
       "1                           39 Lorraine St              2131       Address   \n",
       "2      INTERSECTION Corey St & Lagrange St               NaN  Intersection   \n",
       "3                        235 Fairmount Ave              2136       Address   \n",
       "4  INTERSECTION Dorchester Ave & Hallam St               NaN  Intersection   \n",
       "\n",
       "   Property_ID  LATITUDE  LONGITUDE              Source    Geocoded_Location  \n",
       "0         5512   42.2715   -71.0772  Employee Generated  (42.2715, -71.0772)  \n",
       "1        87461   42.2839   -71.1447        Self Service  (42.2839, -71.1447)  \n",
       "2         3522   42.3003   -71.1698        Self Service  (42.3003, -71.1698)  \n",
       "3        55708   42.2496   -71.1156        Self Service  (42.2496, -71.1156)  \n",
       "4         4182   42.3144   -71.0569    Constituent Call  (42.3144, -71.0569)  "
      ]
     },
     "execution_count": 6,
     "metadata": {},
     "output_type": "execute_result"
    }
   ],
   "source": [
    "requests.head()"
   ]
  },
  {
   "cell_type": "code",
   "execution_count": 7,
   "metadata": {
    "collapsed": false
   },
   "outputs": [
    {
     "data": {
      "text/plain": [
       "CASE_ENQUIRY_ID                            int64\n",
       "OPEN_DT                           datetime64[ns]\n",
       "TARGET_DT                         datetime64[ns]\n",
       "CLOSED_DT                         datetime64[ns]\n",
       "OnTime_Status                             object\n",
       "CASE_STATUS                               object\n",
       "CLOSURE_REASON                            object\n",
       "CASE_TITLE                                object\n",
       "SUBJECT                                   object\n",
       "REASON                                    object\n",
       "TYPE                                      object\n",
       "QUEUE                                     object\n",
       "Department                                object\n",
       "SubmittedPhoto                            object\n",
       "ClosedPhoto                               object\n",
       "Location                                  object\n",
       "fire_district                            float64\n",
       "pwd_district                              object\n",
       "city_council_district                    float64\n",
       "police_district                           object\n",
       "neighborhood                              object\n",
       "neighborhood_services_district           float64\n",
       "ward                                      object\n",
       "precinct                                  object\n",
       "land_usage                                object\n",
       "LOCATION_STREET_NAME                      object\n",
       "LOCATION_ZIPCODE                         float64\n",
       "Property_Type                             object\n",
       "Property_ID                              float64\n",
       "LATITUDE                                 float64\n",
       "LONGITUDE                                float64\n",
       "Source                                    object\n",
       "Geocoded_Location                         object\n",
       "dtype: object"
      ]
     },
     "execution_count": 7,
     "metadata": {},
     "output_type": "execute_result"
    }
   ],
   "source": [
    "requests.dtypes"
   ]
  },
  {
   "cell_type": "code",
   "execution_count": 8,
   "metadata": {
    "collapsed": false
   },
   "outputs": [
    {
     "name": "stdout",
     "output_type": "stream",
     "text": [
      "There are 58494 open and 682985 closed requests.\n"
     ]
    }
   ],
   "source": [
    "closed_requests = requests[requests['CASE_STATUS'] == 'Closed']\n",
    "open_requests = requests[requests['CASE_STATUS'] == 'Open']\n",
    "print \"There are %i open and %i closed requests.\" % (len(open_requests), len(closed_requests))"
   ]
  },
  {
   "cell_type": "code",
   "execution_count": null,
   "metadata": {
    "collapsed": true
   },
   "outputs": [],
   "source": [
    "plt.hist(closed_requests[closed_requests['REASON'] = 'Street Lights'])"
   ]
  },
  {
   "cell_type": "code",
   "execution_count": 9,
   "metadata": {
    "collapsed": false
   },
   "outputs": [
    {
     "data": {
      "text/plain": [
       "<matplotlib.legend.Legend at 0x11288e110>"
      ]
     },
     "execution_count": 9,
     "metadata": {},
     "output_type": "execute_result"
    },
    {
     "data": {
      "image/png": "[encoded data removed]",
      "text/plain": [
       "<matplotlib.figure.Figure at 0x12181f110>"
      ]
     },
     "metadata": {},
     "output_type": "display_data"
    }
   ],
   "source": [
    "plt.figure(figsize=[12,7.5])\n",
    "plt.title(\"Number of Requests Over Last Couple Years\")\n",
    "plt.hist(closed_requests['OPEN_DT'].values, label='Closed Requests')\n",
    "plt.hist(open_requests['OPEN_DT'].values, label='Open Requests')\n",
    "plt.legend()"
   ]
  },
  {
   "cell_type": "code",
   "execution_count": 10,
   "metadata": {
    "collapsed": false
   },
   "outputs": [
    {
     "data": {
      "text/plain": [
       "(array([ 602861.,   28199.,   11614.,    7270.,    5486.,    4018.,\n",
       "           3186.,    2991.,    2330.,    2161.]),\n",
       " array([  0.,   1.,   2.,   3.,   4.,   5.,   6.,   7.,   8.,   9.,  10.]),\n",
       " <a list of 10 Patch objects>)"
      ]
     },
     "execution_count": 10,
     "metadata": {},
     "output_type": "execute_result"
    },
    {
     "data": {
      "image/png": "[encoded data removed]",
      "text/plain": [
       "<matplotlib.figure.Figure at 0x120d42190>"
      ]
     },
     "metadata": {},
     "output_type": "display_data"
    }
   ],
   "source": [
    "plt.figure(figsize=[12,8])\n",
    "plt.subplot(221)\n",
    "plt.title('Response Time in Days')\n",
    "delays = closed_requests['CLOSED_DT'] - closed_requests['OPEN_DT']\n",
    "plt.hist(delays.astype('timedelta64[D]'), range=(0,10))\n",
    "plt.subplot(222)\n",
    "plt.title('Response Time in Minutes')\n",
    "plt.hist(delays.astype('timedelta64[m]'), range=(0,10))\n",
    "plt.subplot(223)\n",
    "plt.title(\"Response Time in Months\")\n",
    "plt.hist(delays.astype('timedelta64[D]')/31, range=(0,10))"
   ]
  },
  {
   "cell_type": "code",
   "execution_count": 248,
   "metadata": {
    "collapsed": false
   },
   "outputs": [
    {
     "name": "stdout",
     "output_type": "stream",
     "text": [
      "1433\n"
     ]
    },
    {
     "data": {
      "text/plain": [
       "[<matplotlib.lines.Line2D at 0x1170ff150>]"
      ]
     },
     "execution_count": 248,
     "metadata": {},
     "output_type": "execute_result"
    },
    {
     "data": {
      "image/png": "[encoded data removed]",
      "text/plain": [
       "<matplotlib.figure.Figure at 0x116de7e90>"
      ]
     },
     "metadata": {},
     "output_type": "display_data"
    }
   ],
   "source": [
    "begin = pd.to_datetime('March 15, 2014 12:00PM')\n",
    "end = pd.to_datetime('March 19, 2014 12:00PM')\n",
    "\n",
    "in_range = requests[requests['OPEN_DT'] > begin]\n",
    "in_range = in_range[in_range['OPEN_DT'] < end]\n",
    "\n",
    "print len(in_range)\n",
    "\n",
    "neighborhood = in_range[in_range['neighborhood'] == 'Allston / Brighton']\n",
    "\n",
    "plt.plot(neighborhood['LATITUDE'], neighborhood['LONGITUDE'], 'o', alpha=.05)"
   ]
  },
  {
   "cell_type": "code",
   "execution_count": 246,
   "metadata": {
    "collapsed": false
   },
   "outputs": [
    {
     "data": {
      "text/plain": [
       "{nan,\n",
       " 'Allston / Brighton',\n",
       " 'Back Bay',\n",
       " 'Beacon Hill',\n",
       " 'Boston',\n",
       " 'Brighton',\n",
       " 'Charlestown',\n",
       " 'Dorchester',\n",
       " 'Downtown / Financial District',\n",
       " 'East Boston',\n",
       " 'Fenway / Kenmore / Audubon Circle / Longwood',\n",
       " 'Greater Mattapan',\n",
       " 'Hyde Park',\n",
       " 'Jamaica Plain',\n",
       " 'Mattapan',\n",
       " 'Mission Hill',\n",
       " 'Roslindale',\n",
       " 'Roxbury',\n",
       " 'South Boston',\n",
       " 'South Boston / South Boston Waterfront',\n",
       " 'South End',\n",
       " 'West Roxbury'}"
      ]
     },
     "execution_count": 246,
     "metadata": {},
     "output_type": "execute_result"
    }
   ],
   "source": [
    "set(in_range['neighborhood'])"
   ]
  },
  {
   "cell_type": "code",
   "execution_count": null,
   "metadata": {
    "collapsed": true
   },
   "outputs": [],
   "source": []
  },
  {
   "cell_type": "markdown",
   "metadata": {
    "collapsed": false
   },
   "source": [
    "# Simulated Annealing"
   ]
  },
  {
   "cell_type": "code",
   "execution_count": 234,
   "metadata": {
    "collapsed": true
   },
   "outputs": [],
   "source": [
    "# Starting the set-up\n",
    "\n",
    "epsilon = 10**-6\n",
    "\n",
    "def jump(current):\n",
    "    new_current = []\n",
    "    for dist in current:\n",
    "        new_dist = {}\n",
    "        new_dist['means'] = dist['means'] + np.random.normal(loc=0, scale=0.001, size=2)\n",
    "        covs = dist['cov'] + np.random.normal(loc=0, scale=0.001, size=[2,2])\n",
    "        covs = (covs + covs.T)/2\n",
    "        if covs[0,0] <= 0: covs[0,0] = epsilon\n",
    "        if covs[1,1] <= 0: covs[1,1] = epsilon\n",
    "            \n",
    "        max_cov = (covs[0,0] * covs[1,1])**0.5\n",
    "        if abs(covs[0,1]) > max_cov:\n",
    "            if covs[0,1] < 0:\n",
    "                covs[0,1] = -max_cov+epsilon\n",
    "                covs[1,0] = -max_cov + epsilon\n",
    "            else:\n",
    "                covs[0,1] = max_cov-epsilon\n",
    "                covs[1,0] = max_cov - epsilon\n",
    "                \n",
    "        new_dist['cov'] = covs\n",
    "        new_current.append(new_dist)\n",
    "    \n",
    "    return new_current\n",
    "    \n",
    "# Getting the liklihood estimate, we assume that for most\n",
    "# points, they will be sufficiently far \n",
    "def get_value(current):\n",
    "    all_likls = []\n",
    "    for row in dat:\n",
    "        likls = []\n",
    "        for dist in current:\n",
    "            likls.append(scipy.stats.multivariate_normal.logpdf(row, mean=dist['means'], cov=dist['cov']))\n",
    "        all_likls.append(max(likls))\n",
    "    return len(dat)-sum(all_likls)"
   ]
  },
  {
   "cell_type": "code",
   "execution_count": 235,
   "metadata": {
    "collapsed": true
   },
   "outputs": [],
   "source": [
    "# bogus data for testing\n",
    "# dat = np.random.multivariate_normal([42, -17.5], cov=[[1,.1], [.1,1]], size=100)\n",
    "\n",
    "# the real data\n",
    "dat = in_range[['LONGITUDE', 'LATITUDE']].as_matrix()\n",
    "\n",
    "# making it shorter for testing\n",
    "dat = dat[:1000]"
   ]
  },
  {
   "cell_type": "code",
   "execution_count": 236,
   "metadata": {
    "collapsed": false
   },
   "outputs": [],
   "source": [
    "# initialize the simulated annealing variables\n",
    "    \n",
    "temp = 0.1\n",
    "current = [{'means': np.array([-71.08,  42.33]), 'cov':np.array([[.05, .005], [.005, .05]])},\n",
    "           {'means': np.array([-71.08,  42.33]), 'cov':np.array([[.05, .005], [.005, .05]])}]\n",
    "\n",
    "bestI = [0]\n",
    "contents = [current[:]]\n",
    "values = [get_value(current)]"
   ]
  },
  {
   "cell_type": "code",
   "execution_count": 237,
   "metadata": {
    "collapsed": false
   },
   "outputs": [
    {
     "name": "stdout",
     "output_type": "stream",
     "text": [
      "Starting temperature: 0.10000\n"
     ]
    }
   ],
   "source": [
    "temp =  0.1\n",
    "print \"Starting temperature: %.5f\" % temp\n",
    "for i in range(1000):\n",
    "    suggested = jump(current)\n",
    "    suggested_val = get_value(suggested)\n",
    "\n",
    "    if suggested_val <= values[-1] or np.random.uniform() < (1.0*values[-1] / suggested_val)**(1.0/temp):\n",
    "        if i % 500 == 0:\n",
    "            temp *= 97./100.\n",
    "        contents.append(suggested)\n",
    "        values.append(suggested_val)\n",
    "        if suggested_val < values[bestI[-1]]:\n",
    "            bestI.append(len(values)-1)\n",
    "        current = suggested"
   ]
  },
  {
   "cell_type": "code",
   "execution_count": 238,
   "metadata": {
    "collapsed": false
   },
   "outputs": [
    {
     "data": {
      "text/plain": [
       "[<matplotlib.lines.Line2D at 0x1152ef6d0>]"
      ]
     },
     "execution_count": 238,
     "metadata": {},
     "output_type": "execute_result"
    },
    {
     "data": {
      "image/png": "[encoded data removed]",
      "text/plain": [
       "<matplotlib.figure.Figure at 0x115229fd0>"
      ]
     },
     "metadata": {},
     "output_type": "display_data"
    }
   ],
   "source": [
    "plt.plot(values)"
   ]
  },
  {
   "cell_type": "code",
   "execution_count": 221,
   "metadata": {
    "collapsed": false
   },
   "outputs": [
    {
     "data": {
      "text/plain": [
       "[<matplotlib.lines.Line2D at 0x113a20c10>]"
      ]
     },
     "execution_count": 221,
     "metadata": {},
     "output_type": "execute_result"
    },
    {
     "data": {
      "image/png": "[encoded data removed]",
      "text/plain": [
       "<matplotlib.figure.Figure at 0x1122c52d0>"
      ]
     },
     "metadata": {},
     "output_type": "display_data"
    }
   ],
   "source": [
    "plt.plot(dat[:,0], dat[:,1], 'o')"
   ]
  },
  {
   "cell_type": "code",
   "execution_count": 216,
   "metadata": {
    "collapsed": false
   },
   "outputs": [
    {
     "data": {
      "text/plain": [
       "[{'cov': array([[ 0.02909293,  0.01673209],\n",
       "         [ 0.01673209,  0.08006892]]),\n",
       "  'means': array([-71.03791974,  42.29002191])},\n",
       " {'cov': array([[ 0.05943693,  0.02213621],\n",
       "         [ 0.02213621,  0.00882164]]),\n",
       "  'means': array([-71.09126642,  42.31716597])}]"
      ]
     },
     "execution_count": 216,
     "metadata": {},
     "output_type": "execute_result"
    }
   ],
   "source": [
    "contents[bestI[-1]]"
   ]
  },
  {
   "cell_type": "code",
   "execution_count": 241,
   "metadata": {
    "collapsed": false
   },
   "outputs": [
    {
     "data": {
      "text/plain": [
       "[<matplotlib.lines.Line2D at 0x11451fd10>]"
      ]
     },
     "execution_count": 241,
     "metadata": {},
     "output_type": "execute_result"
    },
    {
     "data": {
      "image/png": "[encoded data removed]",
      "text/plain": [
       "<matplotlib.figure.Figure at 0x114e84790>"
      ]
     },
     "metadata": {},
     "output_type": "display_data"
    }
   ],
   "source": [
    "best = contents[bestI[-1]]\n",
    "norm1 = np.random.multivariate_normal(mean=best[0]['means'], cov=best[0]['cov'], size=200)\n",
    "norm2 = np.random.multivariate_normal(mean=best[1]['means'], cov=best[1]['cov'], size=200)\n",
    "\n",
    "#ax = sns.kdeplot(norm2[:,0], norm2[:,1],\n",
    "#                cmap=\"Blues\", shade=True, shade_lowest=False)\n",
    "ax = sns.kdeplot(norm1[:,0], norm1[:,1],\n",
    "                 cmap=\"Reds\", shade=True, shade_lowest=False)\n",
    "plt.plot(dat[:,0], dat[:,1], 'o')"
   ]
  },
  {
   "cell_type": "code",
   "execution_count": 174,
   "metadata": {
    "collapsed": false
   },
   "outputs": [
    {
     "data": {
      "text/plain": [
       "array([-71.085662,  42.334048])"
      ]
     },
     "execution_count": 174,
     "metadata": {},
     "output_type": "execute_result"
    }
   ],
   "source": [
    "np.mean(dat, axis=0)"
   ]
  },
  {
   "cell_type": "code",
   "execution_count": 210,
   "metadata": {
    "collapsed": false
   },
   "outputs": [
    {
     "name": "stdout",
     "output_type": "stream",
     "text": [
      "0.0349181780166\n",
      "0.0280449014261\n"
     ]
    }
   ],
   "source": [
    "print np.std(dat[:,0])\n",
    "print np.std(dat[:,1])"
   ]
  },
  {
   "cell_type": "code",
   "execution_count": null,
   "metadata": {
    "collapsed": true
   },
   "outputs": [],
   "source": []
  }
 ],
 "metadata": {
  "kernelspec": {
   "display_name": "Python 2",
   "language": "python",
   "name": "python2"
  },
  "language_info": {
   "codemirror_mode": {
    "name": "ipython",
    "version": 2
   },
   "file_extension": ".py",
   "mimetype": "text/x-python",
   "name": "python",
   "nbconvert_exporter": "python",
   "pygments_lexer": "ipython2",
   "version": "2.7.11"
  }
 },
 "nbformat": 4,
 "nbformat_minor": 0
}
