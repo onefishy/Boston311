{
 "cells": [
  {
   "cell_type": "code",
   "execution_count": 19,
   "metadata": {
    "collapsed": false
   },
   "outputs": [],
   "source": [
    "import numpy as np\n",
    "import pandas as pd\n",
    "import scipy.io\n",
    "import time\n",
    "import timeit"
   ]
  },
  {
   "cell_type": "code",
   "execution_count": 21,
   "metadata": {
    "collapsed": false
   },
   "outputs": [
    {
     "name": "stdout",
     "output_type": "stream",
     "text": [
      "Read in data in 10.75 seconds.\n",
      "Filtered data in 0.30 seconds."
     ]
    },
    {
     "name": "stderr",
     "output_type": "stream",
     "text": [
      "/Users/isadoranun/anaconda/lib/python2.7/site-packages/IPython/core/interactiveshell.py:2902: DtypeWarning: Columns (23) have mixed types. Specify dtype option on import or set low_memory=False.\n",
      "  interactivity=interactivity, compiler=compiler, result=result)\n",
      "/Users/isadoranun/anaconda/lib/python2.7/site-packages/ipykernel/__main__.py:17: SettingWithCopyWarning: \n",
      "A value is trying to be set on a copy of a slice from a DataFrame.\n",
      "Try using .loc[row_indexer,col_indexer] = value instead\n",
      "\n",
      "See the caveats in the documentation: http://pandas.pydata.org/pandas-docs/stable/indexing.html#indexing-view-versus-copy\n"
     ]
    },
    {
     "name": "stdout",
     "output_type": "stream",
     "text": [
      "\n",
      "Dates processed in 461.30 seconds.\n"
     ]
    }
   ],
   "source": [
    "#------------------    Read in and Process Real Data    ----------------------#\n",
    "# Read 311 data\n",
    "t1 = time.time()\n",
    "requests = pd.read_csv('../../311__Service_Requests.csv')\n",
    "t2 = time.time()\n",
    "print \"Read in data in %.2f seconds.\" % (t2 - t1)\n",
    "\n",
    "# Filter for closed cases\n",
    "t1 = time.time()\n",
    "closed_requests = requests[requests['CASE_STATUS'] == 'Closed']\n",
    "t2 = time.time()\n",
    "print \"Filtered data in %.2f seconds.\" % (t2 - t1)\n",
    "\n",
    "# Convert dates to datetime type\n",
    "t1 = time.time()\n",
    "for col in ['OPEN_DT', 'TARGET_DT', 'CLOSED_DT']:\n",
    "    closed_requests[col] = pd.to_datetime(closed_requests[col], infer_datetime_format=True)\n",
    "t2= time.time()\n",
    "print \"Dates processed in %.2f seconds.\" % (t2 - t1)"
   ]
  },
  {
   "cell_type": "code",
   "execution_count": 31,
   "metadata": {
    "collapsed": true
   },
   "outputs": [],
   "source": [
    "#---------------- Plot Cluster Membership Histogram ----------------#\n",
    "\n",
    "def filter_by_id(ids, source):\n",
    "    begin = pd.to_datetime('January 01, 2015 12:00AM') \n",
    "    end = pd.to_datetime('January 01, 2016 12:00AM')\n",
    "\n",
    "    # Filter for requests opened between begin and end dates\n",
    "    in_range = closed_requests[closed_requests['OPEN_DT'] > begin]\n",
    "    in_range = in_range[in_range['OPEN_DT'] < end]\n",
    "\n",
    "    # Filter for requests with specific source\n",
    "    in_range = in_range[in_range['Source'] == source]\n",
    "    \n",
    "   \n",
    "    # Filter for requests for a set of case ids\n",
    "    in_range = in_range[in_range['CASE_ENQUIRY_ID'].isin(ids)]\n",
    "    \n",
    "    return in_range"
   ]
  },
  {
   "cell_type": "code",
   "execution_count": 71,
   "metadata": {
    "collapsed": false
   },
   "outputs": [],
   "source": [
    "clusters_calls = scipy.io.loadmat(\"2015_data_const_MAP_ids.mat\")\n",
    "clusters_apps = scipy.io.loadmat(\"2015_data_app_MAP_ids.mat\")"
   ]
  },
  {
   "cell_type": "code",
   "execution_count": 72,
   "metadata": {
    "collapsed": false
   },
   "outputs": [],
   "source": [
    "ids0_calls = clusters_calls['0'].tolist()[0]\n",
    "ids1_calls = clusters_calls['1'].tolist()[0]\n",
    "ids2_calls = clusters_calls['2'].tolist()[0]\n",
    "\n",
    "ids0_apps = clusters_apps['0'].tolist()[0]\n",
    "ids1_apps = clusters_apps['1'].tolist()[0]\n",
    "ids2_apps = clusters_apps['2'].tolist()[0]"
   ]
  },
  {
   "cell_type": "code",
   "execution_count": 87,
   "metadata": {
    "collapsed": false
   },
   "outputs": [],
   "source": [
    "a0_calls = filter_by_id(ids0_calls,'Constituent Call')\n",
    "a0_calls = a0_calls[['LONGITUDE','LATITUDE','Department','SUBJECT','REASON']]\n",
    "a0_calls['Cluster'] = np.zeros(len(a0_calls))\n",
    "a1_calls = filter_by_id(ids1_calls,'Constituent Call')\n",
    "a1_calls = a1_calls[['LONGITUDE','LATITUDE','Department','SUBJECT','REASON']]\n",
    "a1_calls['Cluster'] = np.ones(len(a1_calls))\n",
    "a2_calls = filter_by_id(ids2_calls,'Constituent Call')\n",
    "a2_calls = a2_calls[['LONGITUDE','LATITUDE','Department','SUBJECT','REASON']]\n",
    "a2_calls['Cluster'] = 2*np.ones(len(a2_calls))\n",
    "\n",
    "a0_apps = filter_by_id(ids0_apps,'Citizens Connect App')\n",
    "a0_apps = a0_apps[['LONGITUDE','LATITUDE','Department','SUBJECT','REASON']]\n",
    "a0_apps['Cluster'] = np.zeros(len(a0_apps))\n",
    "a1_apps = filter_by_id(ids1_apps,'Citizens Connect App')\n",
    "a1_apps = a1_apps[['LONGITUDE','LATITUDE','Department','SUBJECT','REASON']]\n",
    "a1_apps['Cluster'] = np.ones(len(a1_apps))\n",
    "a2_apps = filter_by_id(ids2_apps,'Citizens Connect App')\n",
    "a2_apps = a2_apps[['LONGITUDE','LATITUDE','Department','SUBJECT','REASON']]\n",
    "a2_apps['Cluster'] = 2*np.ones(len(a2_apps))"
   ]
  },
  {
   "cell_type": "code",
   "execution_count": 76,
   "metadata": {
    "collapsed": false
   },
   "outputs": [
    {
     "name": "stdout",
     "output_type": "stream",
     "text": [
      "15771 2566 136\n"
     ]
    }
   ],
   "source": [
    "print len(a0_apps),len(a1_apps),len(a2_apps)"
   ]
  },
  {
   "cell_type": "code",
   "execution_count": 88,
   "metadata": {
    "collapsed": false
   },
   "outputs": [],
   "source": [
    "all_data_calls = pd.concat([a1_calls,a0_calls,a2_calls])\n",
    "all_data_apps = pd.concat([a0_apps,a1_apps,a2_apps])"
   ]
  },
  {
   "cell_type": "code",
   "execution_count": 89,
   "metadata": {
    "collapsed": false
   },
   "outputs": [],
   "source": [
    "all_data_calls = all_data_calls.reset_index()\n",
    "all_data_apps = all_data_apps.reset_index()"
   ]
  },
  {
   "cell_type": "code",
   "execution_count": 90,
   "metadata": {
    "collapsed": false
   },
   "outputs": [],
   "source": [
    "all_data_calls.to_json(\"clusters_calls.json\", orient=\"records\")\n",
    "all_data_apps.to_json(\"clusters_apps.json\", orient=\"records\")"
   ]
  },
  {
   "cell_type": "code",
   "execution_count": 86,
   "metadata": {
    "collapsed": false
   },
   "outputs": [
    {
     "data": {
      "text/plain": [
       "Index([u'CASE_ENQUIRY_ID', u'OPEN_DT', u'TARGET_DT', u'CLOSED_DT',\n",
       "       u'OnTime_Status', u'CASE_STATUS', u'CLOSURE_REASON', u'CASE_TITLE',\n",
       "       u'SUBJECT', u'REASON', u'TYPE', u'QUEUE', u'Department',\n",
       "       u'SubmittedPhoto', u'ClosedPhoto', u'Location', u'fire_district',\n",
       "       u'pwd_district', u'city_council_district', u'police_district',\n",
       "       u'neighborhood', u'neighborhood_services_district', u'ward',\n",
       "       u'precinct', u'land_usage', u'LOCATION_STREET_NAME',\n",
       "       u'LOCATION_ZIPCODE', u'Property_Type', u'Property_ID', u'LATITUDE',\n",
       "       u'LONGITUDE', u'Source', u'Geocoded_Location'],\n",
       "      dtype='object')"
      ]
     },
     "execution_count": 86,
     "metadata": {},
     "output_type": "execute_result"
    }
   ],
   "source": [
    "filter_by_id(ids0_calls,'Constituent Call').columns"
   ]
  },
  {
   "cell_type": "code",
   "execution_count": null,
   "metadata": {
    "collapsed": true
   },
   "outputs": [],
   "source": []
  }
 ],
 "metadata": {
  "kernelspec": {
   "display_name": "Python 2",
   "language": "python",
   "name": "python2"
  },
  "language_info": {
   "codemirror_mode": {
    "name": "ipython",
    "version": 2
   },
   "file_extension": ".py",
   "mimetype": "text/x-python",
   "name": "python",
   "nbconvert_exporter": "python",
   "pygments_lexer": "ipython2",
   "version": "2.7.11"
  }
 },
 "nbformat": 4,
 "nbformat_minor": 0
}
