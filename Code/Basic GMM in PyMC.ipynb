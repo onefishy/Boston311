{
 "cells": [
  {
   "cell_type": "markdown",
   "metadata": {},
   "source": [
    "# Basic Bayesian GMM with MCMC (via PyMC)"
   ]
  },
  {
   "cell_type": "markdown",
   "metadata": {},
   "source": [
    "We assume the following basic generative model for our data:\n",
    "\\begin{align}\n",
    "\\pi &\\sim Dir(\\alpha_0)\\\\\n",
    "\\Sigma^{-1}_k &\\sim Wish(\\mathbf{W}_0, \\nu_0)\\\\\n",
    "\\mu_k | \\Sigma^{-1}_k &\\sim \\mathcal{N}(\\mathbf{m}_0, (\\beta_0 \\Sigma^{-1}_k )^{-1})\\\\\n",
    "z_n | \\pi &\\sim \\prod_{k=1}^K \\pi_k^{z_{n, k}}\\\\\n",
    "x_n | Z, \\mu, \\Sigma^{-1} &\\sim \\prod_{k=1}^K \\mathcal{N}(\\mu_k, \\Sigma^{-1}_k)^{z_{nk}}\n",
    "\\end{align}\n",
    "Note that the parameters of our model is $\\theta = (\\alpha_0, \\mathbf{W}_0, \\nu_0, \\mathbf{m}_0, \\beta_0)$. \n",
    "<img src=\"graph_model.png\" width=\"400px\">\n",
    "For convinience during some implementations, we will instead use a Normal-Inverse-Wishart prior for the mean and the covariance (rather that the mean and precision) of each component,\n",
    "\\begin{align}\n",
    "\\Sigma_k &\\sim IW(\\mathbf{S}_0, \\nu_0)\\\\\n",
    "\\mu_k | \\Sigma_k &\\sim \\mathcal{N}(\\mathbf{m}_0, \\mathbf{V}_0),\n",
    "\\end{align}\n",
    "where $\\mathbf{V}_0 = \\frac{1}{k_0}\\Sigma_k$."
   ]
  },
  {
   "cell_type": "code",
   "execution_count": 2,
   "metadata": {
    "collapsed": false
   },
   "outputs": [],
   "source": [
    "import numpy as np\n",
    "import matplotlib\n",
    "import matplotlib.pyplot as plt\n",
    "%matplotlib inline\n",
    "\n",
    "import seaborn as sns\n",
    "sns.set_style(\"white\")\n",
    "\n",
    "import time\n",
    "import timeit\n",
    "\n",
    "import scipy.stats \n",
    "import pandas as pd\n",
    "import pymc as pm\n",
    "from sklearn import mixture\n",
    "\n",
    "import re\n",
    "import numpy as np"
   ]
  },
  {
   "cell_type": "code",
   "execution_count": 80,
   "metadata": {
    "collapsed": false
   },
   "outputs": [
    {
     "data": {
      "image/png": "[encoded data removed]",
      "text/plain": [
       "<matplotlib.figure.Figure at 0x10fc13d90>"
      ]
     },
     "metadata": {},
     "output_type": "display_data"
    }
   ],
   "source": [
    "#-------------   data parameters\n",
    "K = 2 #number of components\n",
    "N = 100 #number of observations\n",
    "M = 2 #number of attributes per observation\n",
    "\n",
    "n_samples = int(N/2.0) #number of points in each component\n",
    "mu1 = np.array([10, 10]) #mean of component 1\n",
    "mu2 = np.array([6, 6]) #mean of component 1\n",
    "\n",
    "# generate random sample, two components\n",
    "np.random.seed(0)\n",
    "\n",
    "# generate spherical data centered on mu1\n",
    "comp1 = np.random.randn(n_samples, M) + mu1\n",
    "\n",
    "# generate spherical data centered on mu2\n",
    "comp2 = np.random.randn(N - n_samples, M) + mu2\n",
    "\n",
    "# concatenate the two datasets into training set\n",
    "data = np.vstack([comp1, comp2])\n",
    "\n",
    "#plot the components\n",
    "plt.scatter(comp1[:, 0], comp1[:, 1], 4, color='r')\n",
    "plt.scatter(comp2[:, 0], comp2[:, 1], 4, color='b')\n",
    "\n",
    "plt.title('test data')\n",
    "plt.axis('tight')\n",
    "plt.show()"
   ]
  },
  {
   "cell_type": "code",
   "execution_count": 89,
   "metadata": {
    "collapsed": false
   },
   "outputs": [
    {
     "name": "stdout",
     "output_type": "stream",
     "text": [
      " [-----------------100%-----------------] 5000 of 5000 complete in 27.5 sec\n",
      "\n",
      "posterior mean for mu1: [ 9.10642169  9.06534117]\n",
      "posterior mean for mu2: [ 6.34900333  6.64960704]\n",
      "\n",
      "\n",
      "posterior mean for L1: [[ 0.36168472  0.21606068]\n",
      " [ 0.21606068  1.67403464]]\n",
      "posterior mean for L2: [[ 0.34773358 -0.23813438]\n",
      " [-0.23813438  1.19410082]]\n"
     ]
    }
   ],
   "source": [
    "#Sampling parameters\n",
    "iters =10000\n",
    "burnin = 0.4\n",
    "\n",
    "#-------------\n",
    "#----------------------------- the model\n",
    "#-------------\n",
    "\n",
    "#-------------   model parameters\n",
    "alpha = np.array( [0.5] * K ) #shape parameter \n",
    "nu = M + 1 #degrees of freedom (greater than M - 1)\n",
    "W = np.eye(M) #scale matrix (positive)\n",
    "beta = 1. #scale for wishart-normal dist\n",
    "eta = np.array( [0] * M ) #mean for wishart-normal dist\n",
    "\n",
    "#-------------   priors\n",
    "#mixture coefficient\n",
    "pi = pm.Dirichlet( 'pi', theta=alpha ) \n",
    "#precision matrices\n",
    "L = dict()\n",
    "for k in xrange(K):\n",
    "    L[k] = pm.Wishart( 'L_{}'.format(k), n=nu, Tau=W )\n",
    "    \n",
    "#means\n",
    "mu = dict()\n",
    "for k in xrange(K):\n",
    "    mu[k] = pm.MvNormal( 'mu_{}'.format(k), mu=eta, tau=beta * L[k] ) \n",
    "      \n",
    "#latent component memembership\n",
    "Z = pm.Categorical( 'Z', p=pi, size=N )\n",
    "\n",
    "#list of means for data\n",
    "@pm.deterministic\n",
    "def mu_z(Z=Z, mu=mu):\n",
    "    return [mu[Z[n]] for n in xrange(N)]\n",
    "\n",
    "#list of precisions for data\n",
    "@pm.deterministic\n",
    "def L_z(Z=Z, L=L):\n",
    "    return [L[Z[n]] for n in xrange(N)]\n",
    "\n",
    "#-------------   likelihood\n",
    "Y = dict()\n",
    "for n in xrange(N):\n",
    "    Y[n] = pm.MvNormal( 'Y_{}'.format(n), mu=mu_z[n], tau=L_z[n], \n",
    "                       value=data[n, :], observed=True ) \n",
    "\n",
    "#-------------\n",
    "#----------------------------- Simple MCMC\n",
    "#-------------\n",
    "\n",
    "#-------------   sampling parameters\n",
    "iters = 5000\n",
    "burnin = 0.3\n",
    "\n",
    "#-------------   pymc sampler\n",
    "mc = pm.MCMC([pi, mu, L, Z, mu_z, L_z, Y])\n",
    "mc.sample( iter=iters, burn=burnin * iters )\n",
    "trace1 = mc.trace('mu_0')[:]\n",
    "trace2 = mc.trace('mu_1')[:]\n",
    "trace3 = mc.trace('L_0')[:]\n",
    "trace4 = mc.trace('L_1')[:]\n",
    "\n",
    "print '\\n'\n",
    "print 'posterior mean for mu1:', np.mean(trace1, axis=0)\n",
    "print 'posterior mean for mu2:', np.mean(trace2, axis=0)\n",
    "\n",
    "print '\\n'\n",
    "print 'posterior mean for L1:', np.linalg.inv(np.mean(trace3, axis=0))\n",
    "print 'posterior mean for L2:', np.linalg.inv(np.mean(trace4, axis=0))"
   ]
  },
  {
   "cell_type": "code",
   "execution_count": null,
   "metadata": {
    "collapsed": true
   },
   "outputs": [],
   "source": []
  }
 ],
 "metadata": {
  "kernelspec": {
   "display_name": "Python 2",
   "language": "python",
   "name": "python2"
  },
  "language_info": {
   "codemirror_mode": {
    "name": "ipython",
    "version": 2
   },
   "file_extension": ".py",
   "mimetype": "text/x-python",
   "name": "python",
   "nbconvert_exporter": "python",
   "pygments_lexer": "ipython2",
   "version": "2.7.11"
  }
 },
 "nbformat": 4,
 "nbformat_minor": 0
}
